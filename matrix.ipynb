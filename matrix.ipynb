{
 "cells": [
  {
   "cell_type": "code",
   "execution_count": 15,
   "id": "85998cfd-71ce-41cb-be83-6456ff1eecd9",
   "metadata": {},
   "outputs": [
    {
     "name": "stdout",
     "output_type": "stream",
     "text": [
      "[[2]] \n",
      "\n",
      "[[2 1]\n",
      " [2 3]] \n",
      "\n",
      "[[22  3  4]\n",
      " [ 1  3  2]\n",
      " [ 2  3  4]] \n",
      "\n"
     ]
    }
   ],
   "source": [
    "import numpy as np\n",
    "\n",
    "\n",
    "#1 shape matrix\n",
    "mat_1= np.array([[2]])\n",
    "print(mat_1,\"\\n\")\n",
    "\n",
    "#2 shape matrix\n",
    "mat_2= np.array([[2,1],[2,3]])\n",
    "print(mat_2,\"\\n\")\n",
    "\n",
    "#2 shape matrix\n",
    "mat_3= np.array([[22,3,4],[1,3,2],[2,3,4]])\n",
    "print(mat_3,\"\\n\")"
   ]
  },
  {
   "cell_type": "code",
   "execution_count": 24,
   "id": "e474f398-7087-4e18-a075-8deff81b54ae",
   "metadata": {},
   "outputs": [
    {
     "name": "stdout",
     "output_type": "stream",
     "text": [
      "[[0.64514329 0.76564928 0.81445418 0.76650947]\n",
      " [0.96201483 0.3035253  0.51809577 0.75216937]\n",
      " [0.03528214 0.53862912 0.85286343 0.11123558]]\n"
     ]
    }
   ],
   "source": [
    "mat_1 = np.random.rand(3,4)\n",
    "print(mat_1)"
   ]
  },
  {
   "cell_type": "code",
   "execution_count": 50,
   "id": "71518b33-f514-4fcd-b0fe-b2b69b5cf5fa",
   "metadata": {},
   "outputs": [
    {
     "name": "stdout",
     "output_type": "stream",
     "text": [
      "[[37 53 24 42 28]\n",
      " [13 24 56 22 59]\n",
      " [37 79 28 64 59]\n",
      " [39 54 22 71 67]]\n"
     ]
    }
   ],
   "source": [
    "mat_2 = np.random.randint(100,size = (4,5))\n",
    "print(mat_2)"
   ]
  },
  {
   "cell_type": "code",
   "execution_count": 30,
   "id": "d14866ef-4b5d-4003-ac14-feda9498dcf7",
   "metadata": {},
   "outputs": [
    {
     "name": "stdout",
     "output_type": "stream",
     "text": [
      "[[1. 1. 1. 1.]\n",
      " [1. 1. 1. 1.]\n",
      " [1. 1. 1. 1.]\n",
      " [1. 1. 1. 1.]]\n"
     ]
    }
   ],
   "source": [
    "mat_3 = np.ones((4,4))\n",
    "print(mat_3)"
   ]
  },
  {
   "cell_type": "code",
   "execution_count": 35,
   "id": "616a7786-8d1a-4a94-be68-6ad13ac98a6b",
   "metadata": {},
   "outputs": [
    {
     "name": "stdout",
     "output_type": "stream",
     "text": [
      "[[0 0 0 0]\n",
      " [0 0 0 0]\n",
      " [0 0 0 0]\n",
      " [0 0 0 0]]\n"
     ]
    }
   ],
   "source": [
    "mat_4 = np.zeros((4,4),dtype = int)\n",
    "print(mat_4)"
   ]
  },
  {
   "cell_type": "code",
   "execution_count": 38,
   "id": "b496e26f-5c1c-4139-9317-8188f518ea96",
   "metadata": {},
   "outputs": [
    {
     "name": "stdout",
     "output_type": "stream",
     "text": [
      "[[1. 0. 0. 0.]\n",
      " [0. 1. 0. 0.]\n",
      " [0. 0. 1. 0.]\n",
      " [0. 0. 0. 1.]]\n"
     ]
    }
   ],
   "source": [
    "mat_5 = np.eye(4,4)\n",
    "print(mat_5)"
   ]
  },
  {
   "cell_type": "code",
   "execution_count": 39,
   "id": "e0aa0220-91c2-4edd-9015-e002edb22d98",
   "metadata": {},
   "outputs": [
    {
     "name": "stdout",
     "output_type": "stream",
     "text": [
      "[[56 32 47 27 66]\n",
      " [ 2 85 28 38 19]\n",
      " [83 78 11 78 23]\n",
      " [89 74 69 23  2]]\n"
     ]
    }
   ],
   "source": [
    "mat_2 = np.random.randint(100,size = (4,5))\n",
    "print(mat_2)"
   ]
  },
  {
   "cell_type": "code",
   "execution_count": 41,
   "id": "0c0e2093-9c24-4848-939f-32d061d87451",
   "metadata": {},
   "outputs": [
    {
     "name": "stdout",
     "output_type": "stream",
     "text": [
      "[[56  2 83 89]\n",
      " [32 85 78 74]\n",
      " [47 28 11 69]\n",
      " [27 38 78 23]\n",
      " [66 19 23  2]]\n"
     ]
    }
   ],
   "source": [
    "trans = np.transpose(mat_2)\n",
    "print(trans)"
   ]
  },
  {
   "cell_type": "markdown",
   "id": "f55c77fa-d65f-417d-99ad-f9a95fd0dd2c",
   "metadata": {},
   "source": [
    "#opeartion in  matrix"
   ]
  },
  {
   "cell_type": "code",
   "execution_count": 53,
   "id": "8d46c410-5231-4251-9ed5-bc16ab150100",
   "metadata": {},
   "outputs": [
    {
     "name": "stdout",
     "output_type": "stream",
     "text": [
      "[[20 56 26]\n",
      " [26 10 51]\n",
      " [40 37  8]] \n",
      "\n",
      "[[45 46 13]\n",
      " [ 4 72 98]\n",
      " [16  7 85]]\n"
     ]
    }
   ],
   "source": [
    "#addition in matrix\n",
    "\n",
    "mat_1 = np.random.randint(100,size = (3,3))\n",
    "mat_2 = np.random.randint(100,size = (3,3))\n",
    "print(mat_1,\"\\n\")\n",
    "print(mat_2)"
   ]
  },
  {
   "cell_type": "code",
   "execution_count": 57,
   "id": "939cf346-07ae-4f2b-8d63-2874e9b426f0",
   "metadata": {},
   "outputs": [
    {
     "name": "stdout",
     "output_type": "stream",
     "text": [
      "[[ 65 102  39]\n",
      " [ 30  82 149]\n",
      " [ 56  44  93]]\n"
     ]
    }
   ],
   "source": [
    "add  = np.add(mat_1,mat_2)\n",
    "print(add)"
   ]
  },
  {
   "cell_type": "code",
   "execution_count": 59,
   "id": "34c431ad-bed5-4ff5-a0d7-bea7dc99f004",
   "metadata": {},
   "outputs": [
    {
     "name": "stdout",
     "output_type": "stream",
     "text": [
      "[[-25  10  13]\n",
      " [ 22 -62 -47]\n",
      " [ 24  30 -77]]\n"
     ]
    }
   ],
   "source": [
    "sub = np.subtract(mat_1,mat_2)\n",
    "print(sub)"
   ]
  },
  {
   "cell_type": "code",
   "execution_count": 60,
   "id": "6dc7d23b-8f50-4107-89ce-7dc7d23965b1",
   "metadata": {},
   "outputs": [
    {
     "name": "stdout",
     "output_type": "stream",
     "text": [
      "[[1540 5134 7958]\n",
      " [2026 2273 5653]\n",
      " [2076 4560 4826]]\n"
     ]
    }
   ],
   "source": [
    "mul = np.dot(mat_1,mat_2)\n",
    "print(mul)"
   ]
  },
  {
   "cell_type": "code",
   "execution_count": null,
   "id": "2e81d8b1-8af2-48eb-8a3f-0190fdb944cd",
   "metadata": {},
   "outputs": [],
   "source": []
  }
 ],
 "metadata": {
  "kernelspec": {
   "display_name": "Python 3 (ipykernel)",
   "language": "python",
   "name": "python3"
  },
  "language_info": {
   "codemirror_mode": {
    "name": "ipython",
    "version": 3
   },
   "file_extension": ".py",
   "mimetype": "text/x-python",
   "name": "python",
   "nbconvert_exporter": "python",
   "pygments_lexer": "ipython3",
   "version": "3.11.9"
  }
 },
 "nbformat": 4,
 "nbformat_minor": 5
}
